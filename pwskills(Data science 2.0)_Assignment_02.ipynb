{
 "cells": [
  {
   "cell_type": "markdown",
   "id": "73961cb4-0673-4606-b30f-bd2c3775d25b",
   "metadata": {},
   "source": [
    "Q1. How do you comment code in Python? What are the different types of comments?"
   ]
  },
  {
   "cell_type": "markdown",
   "id": "c3c2794b-5648-4b33-b067-bddf782dd92f",
   "metadata": {},
   "source": [
    "Ans : There are two types of comments:\n",
    "\n",
    "single-line comment(#)\n",
    "multi-line comment(\"\"\" \"\"\")"
   ]
  },
  {
   "cell_type": "code",
   "execution_count": 1,
   "id": "822811bf-ed7b-435d-8e13-850a59588331",
   "metadata": {},
   "outputs": [
    {
     "name": "stdout",
     "output_type": "stream",
     "text": [
      "anjana\n"
     ]
    }
   ],
   "source": [
    "\"\"\"\n",
    "this \n",
    "is \n",
    "my \n",
    "multi-line \n",
    "comment\n",
    "\"\"\"\n",
    "print(\"anjana\")"
   ]
  },
  {
   "cell_type": "markdown",
   "id": "578d1501-4fc7-443d-9e59-aaedf71fa6e8",
   "metadata": {},
   "source": [
    "Q2. What are variables in Python? How do you declare and assign values to variables?"
   ]
  },
  {
   "cell_type": "markdown",
   "id": "086552d2-f859-43d7-8a1b-6f758ee84d1c",
   "metadata": {},
   "source": [
    "Ans : Variable is a name that is used to refer to memory location. There are many types of variable :- (i) integer (ii) float (iii) string (iv) bool (v) complex"
   ]
  },
  {
   "cell_type": "code",
   "execution_count": 2,
   "id": "e1e2d1ea-4871-46e1-a585-6704322e1a06",
   "metadata": {},
   "outputs": [
    {
     "name": "stdout",
     "output_type": "stream",
     "text": [
      "20\n"
     ]
    },
    {
     "data": {
      "text/plain": [
       "int"
      ]
     },
     "execution_count": 2,
     "metadata": {},
     "output_type": "execute_result"
    }
   ],
   "source": [
    "a =20\n",
    "print(a)\n",
    "type(a)"
   ]
  },
  {
   "cell_type": "code",
   "execution_count": 3,
   "id": "d7c47ba0-7d41-47af-a1f8-c685aa2096af",
   "metadata": {},
   "outputs": [
    {
     "name": "stdout",
     "output_type": "stream",
     "text": [
      "4.5\n"
     ]
    },
    {
     "data": {
      "text/plain": [
       "float"
      ]
     },
     "execution_count": 3,
     "metadata": {},
     "output_type": "execute_result"
    }
   ],
   "source": [
    "b = 4.5\n",
    "print(b)\n",
    "type(b)"
   ]
  },
  {
   "cell_type": "code",
   "execution_count": 4,
   "id": "6a5c22a3-13e0-47a7-af22-ef7dd98e0386",
   "metadata": {},
   "outputs": [
    {
     "name": "stdout",
     "output_type": "stream",
     "text": [
      "Anjana\n"
     ]
    },
    {
     "data": {
      "text/plain": [
       "str"
      ]
     },
     "execution_count": 4,
     "metadata": {},
     "output_type": "execute_result"
    }
   ],
   "source": [
    "c= \"Anjana\"\n",
    "print(c)\n",
    "type(c)\n"
   ]
  },
  {
   "cell_type": "code",
   "execution_count": 5,
   "id": "028474cb-eb5f-4ffe-b1f5-5600ae2b3b61",
   "metadata": {},
   "outputs": [
    {
     "name": "stdout",
     "output_type": "stream",
     "text": [
      "True\n"
     ]
    },
    {
     "data": {
      "text/plain": [
       "bool"
      ]
     },
     "execution_count": 5,
     "metadata": {},
     "output_type": "execute_result"
    }
   ],
   "source": [
    "d = True\n",
    "print(d)\n",
    "type(d)"
   ]
  },
  {
   "cell_type": "code",
   "execution_count": 6,
   "id": "8afc0a35-dfc1-4def-9249-fc4ff59efb49",
   "metadata": {},
   "outputs": [
    {
     "name": "stdout",
     "output_type": "stream",
     "text": [
      "(6+7j)\n"
     ]
    },
    {
     "data": {
      "text/plain": [
       "complex"
      ]
     },
     "execution_count": 6,
     "metadata": {},
     "output_type": "execute_result"
    }
   ],
   "source": [
    "e = 6+7j\n",
    "print(e)\n",
    "type(e)"
   ]
  },
  {
   "cell_type": "markdown",
   "id": "27a37318-b1e7-4021-90c7-3c5c4479868e",
   "metadata": {},
   "source": [
    "Q3. How do you convert one data type to another in Python?"
   ]
  },
  {
   "cell_type": "code",
   "execution_count": 7,
   "id": "06936213-ae4b-466c-bd29-47275b1100d3",
   "metadata": {},
   "outputs": [
    {
     "name": "stdout",
     "output_type": "stream",
     "text": [
      "10.0\n",
      "[7, 8, 9]\n"
     ]
    }
   ],
   "source": [
    "# int to float\n",
    "a = 10\n",
    "\n",
    "b = float(a)\n",
    "print(b)\n",
    "\n",
    "\n",
    "#tuple to list\n",
    "c = (7,8,9)\n",
    "e = list(c)\n",
    "print(e)\n",
    "\n"
   ]
  },
  {
   "cell_type": "markdown",
   "id": "e41d4365-cd05-462b-be68-1b445538e192",
   "metadata": {},
   "source": [
    "Q4. How do you write and execute a Python script from the command line?"
   ]
  },
  {
   "cell_type": "code",
   "execution_count": 8,
   "id": "3d9659fe-01ed-4834-86cd-46c89c2ee6ed",
   "metadata": {},
   "outputs": [
    {
     "name": "stdout",
     "output_type": "stream",
     "text": [
      "Hello, WORLD \n"
     ]
    }
   ],
   "source": [
    "#myscript.py\n",
    "print(\"Hello, WORLD \")"
   ]
  },
  {
   "cell_type": "markdown",
   "id": "eae6b93a-10be-4d76-8c33-74e0dbde0384",
   "metadata": {},
   "source": [
    "Q5. Given a list my_list = [1, 2, 3, 4, 5], write the code to slice the list and obtain the sub-list [2, 3]."
   ]
  },
  {
   "cell_type": "code",
   "execution_count": 9,
   "id": "c34660e9-aedf-46c7-8afe-86469b95cad7",
   "metadata": {},
   "outputs": [
    {
     "name": "stdout",
     "output_type": "stream",
     "text": [
      "[2, 3]\n"
     ]
    }
   ],
   "source": [
    "my_list = [1, 2, 3, 4, 5]\n",
    "sub_list = my_list[1:3]\n",
    "print(sub_list)"
   ]
  },
  {
   "cell_type": "markdown",
   "id": "1e2ed07e-a6bb-4bb7-8f62-2144d127601e",
   "metadata": {},
   "source": [
    "Q6. What is a complex number in mathematics, and how is it represented in Python?"
   ]
  },
  {
   "cell_type": "code",
   "execution_count": 10,
   "id": "87788d91-836c-4553-af35-e7ebcd4c31cf",
   "metadata": {},
   "outputs": [
    {
     "name": "stdout",
     "output_type": "stream",
     "text": [
      "(6+8j)\n",
      "6.0\n",
      "8.0\n"
     ]
    }
   ],
   "source": [
    "#It consists of two values, the first one is the real part of the complex number, and the second one is the imaginary part of the complex number.\n",
    "\n",
    "a = 6+8j\n",
    "print(a)\n",
    "\n",
    "\n",
    "print(a.real)\n",
    "print(a.imag)"
   ]
  },
  {
   "cell_type": "markdown",
   "id": "88e7cde6-c8bb-4187-8a25-cd69eff15785",
   "metadata": {},
   "source": [
    "Q7. What is the correct way to declare a variable named age and assign the value 25 to it?"
   ]
  },
  {
   "cell_type": "code",
   "execution_count": 11,
   "id": "7433368d-840f-43cb-8421-adcd0843ae81",
   "metadata": {},
   "outputs": [
    {
     "name": "stdout",
     "output_type": "stream",
     "text": [
      "Age : 25\n"
     ]
    }
   ],
   "source": [
    "age = 25\n",
    "print(\"Age :\",age)"
   ]
  },
  {
   "cell_type": "markdown",
   "id": "81647cb8-97ff-4065-9a11-fab953952439",
   "metadata": {},
   "source": [
    "Q8. Declare a variable named price and assign the value 9.99 to it. What data type does this variable belong to?"
   ]
  },
  {
   "cell_type": "code",
   "execution_count": 12,
   "id": "8b25cacd-3aea-4973-a757-807459c84836",
   "metadata": {},
   "outputs": [
    {
     "data": {
      "text/plain": [
       "float"
      ]
     },
     "execution_count": 12,
     "metadata": {},
     "output_type": "execute_result"
    }
   ],
   "source": [
    "price = 9.99\n",
    "type(price)"
   ]
  },
  {
   "cell_type": "markdown",
   "id": "2ff10654-1fdf-4e0d-b2e0-ffc570cde149",
   "metadata": {},
   "source": [
    "Q9. Create a variable named name and assign your full name to it as a string. How would you print the value of this variable?"
   ]
  },
  {
   "cell_type": "code",
   "execution_count": 13,
   "id": "6ce6780c-8387-48db-8376-474bfd294f3f",
   "metadata": {},
   "outputs": [
    {
     "name": "stdout",
     "output_type": "stream",
     "text": [
      "Anjana Kumari Sinha\n"
     ]
    }
   ],
   "source": [
    "name = \"Anjana Kumari Sinha\"\n",
    "print(name)"
   ]
  },
  {
   "cell_type": "markdown",
   "id": "d31adf67-46e6-476b-aece-98cdad220207",
   "metadata": {},
   "source": [
    "Q10. Given the string \"Hello, World!\", extract the substring \"World\".\n",
    "\n"
   ]
  },
  {
   "cell_type": "code",
   "execution_count": 14,
   "id": "46787168-86ca-41cb-8f7e-c697cef4fc92",
   "metadata": {},
   "outputs": [
    {
     "name": "stdout",
     "output_type": "stream",
     "text": [
      "World\n"
     ]
    }
   ],
   "source": [
    "str = \"Hello, World!\"\n",
    "sub_str = str[7:12]\n",
    "print(sub_str)"
   ]
  },
  {
   "cell_type": "markdown",
   "id": "68169840-73e8-46f7-b8ad-72cdc8fad7f9",
   "metadata": {},
   "source": [
    "Q11. Create a variable named \"is_student\" and assign it a boolean value indicating whether you are currently a student or not."
   ]
  },
  {
   "cell_type": "code",
   "execution_count": 15,
   "id": "2556e5dd-9821-4779-a062-cc1782a857a3",
   "metadata": {},
   "outputs": [
    {
     "name": "stdout",
     "output_type": "stream",
     "text": [
      "True\n"
     ]
    }
   ],
   "source": [
    "is_student = True\n",
    "print(is_student)"
   ]
  },
  {
   "cell_type": "code",
   "execution_count": null,
   "id": "1aee0e1a-7c11-429f-a0d4-4a754ce837c4",
   "metadata": {},
   "outputs": [],
   "source": []
  }
 ],
 "metadata": {
  "kernelspec": {
   "display_name": "Python 3 (ipykernel)",
   "language": "python",
   "name": "python3"
  },
  "language_info": {
   "codemirror_mode": {
    "name": "ipython",
    "version": 3
   },
   "file_extension": ".py",
   "mimetype": "text/x-python",
   "name": "python",
   "nbconvert_exporter": "python",
   "pygments_lexer": "ipython3",
   "version": "3.10.8"
  }
 },
 "nbformat": 4,
 "nbformat_minor": 5
}
